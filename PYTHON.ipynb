{
  "nbformat": 4,
  "nbformat_minor": 0,
  "metadata": {
    "colab": {
      "provenance": [],
      "authorship_tag": "ABX9TyPs1Z3TZBXvjhBuTf/N4jML",
      "include_colab_link": true
    },
    "kernelspec": {
      "name": "python3",
      "display_name": "Python 3"
    },
    "language_info": {
      "name": "python"
    }
  },
  "cells": [
    {
      "cell_type": "markdown",
      "metadata": {
        "id": "view-in-github",
        "colab_type": "text"
      },
      "source": [
        "<a href=\"https://colab.research.google.com/github/ayush585/M-AI/blob/main/PYTHON.ipynb\" target=\"_parent\"><img src=\"https://colab.research.google.com/assets/colab-badge.svg\" alt=\"Open In Colab\"/></a>"
      ]
    },
    {
      "cell_type": "code",
      "execution_count": 5,
      "metadata": {
        "id": "xticXgFhN5N4"
      },
      "outputs": [],
      "source": [
        "#first_name = \"BRO\"\n",
        "#Last_name = \"NIGGER\"\n",
        "#full_name = first_name +\" \"+ Last_name\n",
        "\n",
        "#print(\"Heloo\"+full_name)\n",
        "#print(type(name))"
      ]
    },
    {
      "cell_type": "code",
      "source": [
        "#age = 21\n",
        "#age = age + 1\n",
        "#print(age)\n",
        "#print(type(age))"
      ],
      "metadata": {
        "id": "pwqhSkhfQPzL"
      },
      "execution_count": 9,
      "outputs": []
    },
    {
      "cell_type": "code",
      "source": [
        "#height = 181.5\n",
        "#print(\"your height is: \"+str(height)+\"cm\")\n",
        "#print(type(height))"
      ],
      "metadata": {
        "id": "awcKn7ftRR-N"
      },
      "execution_count": 16,
      "outputs": []
    },
    {
      "cell_type": "code",
      "source": [
        "children = False\n",
        "Parents = True\n",
        "#print(children)\n",
        "print(type(children))"
      ],
      "metadata": {
        "colab": {
          "base_uri": "https://localhost:8080/"
        },
        "id": "bwn2ztYmSSuz",
        "outputId": "484eac7a-e9e2-4ebf-bbc8-80106bd3f731"
      },
      "execution_count": 20,
      "outputs": [
        {
          "output_type": "stream",
          "name": "stdout",
          "text": [
            "<class 'bool'>\n"
          ]
        }
      ]
    }
  ]
}